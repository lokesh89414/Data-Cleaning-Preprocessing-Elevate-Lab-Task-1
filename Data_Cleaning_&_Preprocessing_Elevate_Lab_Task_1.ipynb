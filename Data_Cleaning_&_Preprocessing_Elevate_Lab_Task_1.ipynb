{
  "nbformat": 4,
  "nbformat_minor": 0,
  "metadata": {
    "colab": {
      "provenance": [],
      "authorship_tag": "ABX9TyMMQFhTZ6NQIQDJbOty5HaR",
      "include_colab_link": true
    },
    "kernelspec": {
      "name": "python3",
      "display_name": "Python 3"
    },
    "language_info": {
      "name": "python"
    }
  },
  "cells": [
    {
      "cell_type": "markdown",
      "metadata": {
        "id": "view-in-github",
        "colab_type": "text"
      },
      "source": [
        "<a href=\"https://colab.research.google.com/github/lokesh89414/Data-Cleaning-Preprocessing-Elevate-Lab-Task-1/blob/main/Data_Cleaning_%26_Preprocessing_Elevate_Lab_Task_1.ipynb\" target=\"_parent\"><img src=\"https://colab.research.google.com/assets/colab-badge.svg\" alt=\"Open In Colab\"/></a>"
      ]
    },
    {
      "cell_type": "code",
      "execution_count": 1,
      "metadata": {
        "id": "AzRCb3k9_oqh"
      },
      "outputs": [],
      "source": [
        "import pandas as pd"
      ]
    },
    {
      "cell_type": "code",
      "source": [
        "from google.colab import files\n",
        "uploaded = files.upload()  # Upload your dataset file"
      ],
      "metadata": {
        "colab": {
          "base_uri": "https://localhost:8080/",
          "height": 73
        },
        "id": "mXbq7PjDAO14",
        "outputId": "067d3ec5-5380-466b-bf38-130a26fa6e32"
      },
      "execution_count": 4,
      "outputs": [
        {
          "output_type": "display_data",
          "data": {
            "text/plain": [
              "<IPython.core.display.HTML object>"
            ],
            "text/html": [
              "\n",
              "     <input type=\"file\" id=\"files-8752dfaa-e52e-4492-9617-87f05b3a9557\" name=\"files[]\" multiple disabled\n",
              "        style=\"border:none\" />\n",
              "     <output id=\"result-8752dfaa-e52e-4492-9617-87f05b3a9557\">\n",
              "      Upload widget is only available when the cell has been executed in the\n",
              "      current browser session. Please rerun this cell to enable.\n",
              "      </output>\n",
              "      <script>// Copyright 2017 Google LLC\n",
              "//\n",
              "// Licensed under the Apache License, Version 2.0 (the \"License\");\n",
              "// you may not use this file except in compliance with the License.\n",
              "// You may obtain a copy of the License at\n",
              "//\n",
              "//      http://www.apache.org/licenses/LICENSE-2.0\n",
              "//\n",
              "// Unless required by applicable law or agreed to in writing, software\n",
              "// distributed under the License is distributed on an \"AS IS\" BASIS,\n",
              "// WITHOUT WARRANTIES OR CONDITIONS OF ANY KIND, either express or implied.\n",
              "// See the License for the specific language governing permissions and\n",
              "// limitations under the License.\n",
              "\n",
              "/**\n",
              " * @fileoverview Helpers for google.colab Python module.\n",
              " */\n",
              "(function(scope) {\n",
              "function span(text, styleAttributes = {}) {\n",
              "  const element = document.createElement('span');\n",
              "  element.textContent = text;\n",
              "  for (const key of Object.keys(styleAttributes)) {\n",
              "    element.style[key] = styleAttributes[key];\n",
              "  }\n",
              "  return element;\n",
              "}\n",
              "\n",
              "// Max number of bytes which will be uploaded at a time.\n",
              "const MAX_PAYLOAD_SIZE = 100 * 1024;\n",
              "\n",
              "function _uploadFiles(inputId, outputId) {\n",
              "  const steps = uploadFilesStep(inputId, outputId);\n",
              "  const outputElement = document.getElementById(outputId);\n",
              "  // Cache steps on the outputElement to make it available for the next call\n",
              "  // to uploadFilesContinue from Python.\n",
              "  outputElement.steps = steps;\n",
              "\n",
              "  return _uploadFilesContinue(outputId);\n",
              "}\n",
              "\n",
              "// This is roughly an async generator (not supported in the browser yet),\n",
              "// where there are multiple asynchronous steps and the Python side is going\n",
              "// to poll for completion of each step.\n",
              "// This uses a Promise to block the python side on completion of each step,\n",
              "// then passes the result of the previous step as the input to the next step.\n",
              "function _uploadFilesContinue(outputId) {\n",
              "  const outputElement = document.getElementById(outputId);\n",
              "  const steps = outputElement.steps;\n",
              "\n",
              "  const next = steps.next(outputElement.lastPromiseValue);\n",
              "  return Promise.resolve(next.value.promise).then((value) => {\n",
              "    // Cache the last promise value to make it available to the next\n",
              "    // step of the generator.\n",
              "    outputElement.lastPromiseValue = value;\n",
              "    return next.value.response;\n",
              "  });\n",
              "}\n",
              "\n",
              "/**\n",
              " * Generator function which is called between each async step of the upload\n",
              " * process.\n",
              " * @param {string} inputId Element ID of the input file picker element.\n",
              " * @param {string} outputId Element ID of the output display.\n",
              " * @return {!Iterable<!Object>} Iterable of next steps.\n",
              " */\n",
              "function* uploadFilesStep(inputId, outputId) {\n",
              "  const inputElement = document.getElementById(inputId);\n",
              "  inputElement.disabled = false;\n",
              "\n",
              "  const outputElement = document.getElementById(outputId);\n",
              "  outputElement.innerHTML = '';\n",
              "\n",
              "  const pickedPromise = new Promise((resolve) => {\n",
              "    inputElement.addEventListener('change', (e) => {\n",
              "      resolve(e.target.files);\n",
              "    });\n",
              "  });\n",
              "\n",
              "  const cancel = document.createElement('button');\n",
              "  inputElement.parentElement.appendChild(cancel);\n",
              "  cancel.textContent = 'Cancel upload';\n",
              "  const cancelPromise = new Promise((resolve) => {\n",
              "    cancel.onclick = () => {\n",
              "      resolve(null);\n",
              "    };\n",
              "  });\n",
              "\n",
              "  // Wait for the user to pick the files.\n",
              "  const files = yield {\n",
              "    promise: Promise.race([pickedPromise, cancelPromise]),\n",
              "    response: {\n",
              "      action: 'starting',\n",
              "    }\n",
              "  };\n",
              "\n",
              "  cancel.remove();\n",
              "\n",
              "  // Disable the input element since further picks are not allowed.\n",
              "  inputElement.disabled = true;\n",
              "\n",
              "  if (!files) {\n",
              "    return {\n",
              "      response: {\n",
              "        action: 'complete',\n",
              "      }\n",
              "    };\n",
              "  }\n",
              "\n",
              "  for (const file of files) {\n",
              "    const li = document.createElement('li');\n",
              "    li.append(span(file.name, {fontWeight: 'bold'}));\n",
              "    li.append(span(\n",
              "        `(${file.type || 'n/a'}) - ${file.size} bytes, ` +\n",
              "        `last modified: ${\n",
              "            file.lastModifiedDate ? file.lastModifiedDate.toLocaleDateString() :\n",
              "                                    'n/a'} - `));\n",
              "    const percent = span('0% done');\n",
              "    li.appendChild(percent);\n",
              "\n",
              "    outputElement.appendChild(li);\n",
              "\n",
              "    const fileDataPromise = new Promise((resolve) => {\n",
              "      const reader = new FileReader();\n",
              "      reader.onload = (e) => {\n",
              "        resolve(e.target.result);\n",
              "      };\n",
              "      reader.readAsArrayBuffer(file);\n",
              "    });\n",
              "    // Wait for the data to be ready.\n",
              "    let fileData = yield {\n",
              "      promise: fileDataPromise,\n",
              "      response: {\n",
              "        action: 'continue',\n",
              "      }\n",
              "    };\n",
              "\n",
              "    // Use a chunked sending to avoid message size limits. See b/62115660.\n",
              "    let position = 0;\n",
              "    do {\n",
              "      const length = Math.min(fileData.byteLength - position, MAX_PAYLOAD_SIZE);\n",
              "      const chunk = new Uint8Array(fileData, position, length);\n",
              "      position += length;\n",
              "\n",
              "      const base64 = btoa(String.fromCharCode.apply(null, chunk));\n",
              "      yield {\n",
              "        response: {\n",
              "          action: 'append',\n",
              "          file: file.name,\n",
              "          data: base64,\n",
              "        },\n",
              "      };\n",
              "\n",
              "      let percentDone = fileData.byteLength === 0 ?\n",
              "          100 :\n",
              "          Math.round((position / fileData.byteLength) * 100);\n",
              "      percent.textContent = `${percentDone}% done`;\n",
              "\n",
              "    } while (position < fileData.byteLength);\n",
              "  }\n",
              "\n",
              "  // All done.\n",
              "  yield {\n",
              "    response: {\n",
              "      action: 'complete',\n",
              "    }\n",
              "  };\n",
              "}\n",
              "\n",
              "scope.google = scope.google || {};\n",
              "scope.google.colab = scope.google.colab || {};\n",
              "scope.google.colab._files = {\n",
              "  _uploadFiles,\n",
              "  _uploadFilesContinue,\n",
              "};\n",
              "})(self);\n",
              "</script> "
            ]
          },
          "metadata": {}
        },
        {
          "output_type": "stream",
          "name": "stdout",
          "text": [
            "Saving netflix_titles.csv to netflix_titles.csv\n"
          ]
        }
      ]
    },
    {
      "cell_type": "code",
      "source": [
        "# Load the uploaded dataset\n",
        "df = pd.read_csv('netflix_titles.csv')"
      ],
      "metadata": {
        "id": "pgc6-u76AIqx"
      },
      "execution_count": 6,
      "outputs": []
    },
    {
      "cell_type": "code",
      "source": [
        "# Display the first few rows and summary of the dataset\n",
        "df.head(), df.info()"
      ],
      "metadata": {
        "colab": {
          "base_uri": "https://localhost:8080/"
        },
        "id": "qU2xb8GiAkYz",
        "outputId": "7b0401d3-ed65-453d-ad2c-8b18dc4a89e5"
      },
      "execution_count": 7,
      "outputs": [
        {
          "output_type": "stream",
          "name": "stdout",
          "text": [
            "<class 'pandas.core.frame.DataFrame'>\n",
            "RangeIndex: 8807 entries, 0 to 8806\n",
            "Data columns (total 12 columns):\n",
            " #   Column        Non-Null Count  Dtype \n",
            "---  ------        --------------  ----- \n",
            " 0   show_id       8807 non-null   object\n",
            " 1   type          8807 non-null   object\n",
            " 2   title         8807 non-null   object\n",
            " 3   director      6173 non-null   object\n",
            " 4   cast          7982 non-null   object\n",
            " 5   country       7976 non-null   object\n",
            " 6   date_added    8797 non-null   object\n",
            " 7   release_year  8807 non-null   int64 \n",
            " 8   rating        8803 non-null   object\n",
            " 9   duration      8804 non-null   object\n",
            " 10  listed_in     8807 non-null   object\n",
            " 11  description   8807 non-null   object\n",
            "dtypes: int64(1), object(11)\n",
            "memory usage: 825.8+ KB\n"
          ]
        },
        {
          "output_type": "execute_result",
          "data": {
            "text/plain": [
              "(  show_id     type                  title         director  \\\n",
              " 0      s1    Movie   Dick Johnson Is Dead  Kirsten Johnson   \n",
              " 1      s2  TV Show          Blood & Water              NaN   \n",
              " 2      s3  TV Show              Ganglands  Julien Leclercq   \n",
              " 3      s4  TV Show  Jailbirds New Orleans              NaN   \n",
              " 4      s5  TV Show           Kota Factory              NaN   \n",
              " \n",
              "                                                 cast        country  \\\n",
              " 0                                                NaN  United States   \n",
              " 1  Ama Qamata, Khosi Ngema, Gail Mabalane, Thaban...   South Africa   \n",
              " 2  Sami Bouajila, Tracy Gotoas, Samuel Jouy, Nabi...            NaN   \n",
              " 3                                                NaN            NaN   \n",
              " 4  Mayur More, Jitendra Kumar, Ranjan Raj, Alam K...          India   \n",
              " \n",
              "            date_added  release_year rating   duration  \\\n",
              " 0  September 25, 2021          2020  PG-13     90 min   \n",
              " 1  September 24, 2021          2021  TV-MA  2 Seasons   \n",
              " 2  September 24, 2021          2021  TV-MA   1 Season   \n",
              " 3  September 24, 2021          2021  TV-MA   1 Season   \n",
              " 4  September 24, 2021          2021  TV-MA  2 Seasons   \n",
              " \n",
              "                                            listed_in  \\\n",
              " 0                                      Documentaries   \n",
              " 1    International TV Shows, TV Dramas, TV Mysteries   \n",
              " 2  Crime TV Shows, International TV Shows, TV Act...   \n",
              " 3                             Docuseries, Reality TV   \n",
              " 4  International TV Shows, Romantic TV Shows, TV ...   \n",
              " \n",
              "                                          description  \n",
              " 0  As her father nears the end of his life, filmm...  \n",
              " 1  After crossing paths at a party, a Cape Town t...  \n",
              " 2  To protect his family from a powerful drug lor...  \n",
              " 3  Feuds, flirtations and toilet talk go down amo...  \n",
              " 4  In a city of coaching centers known to train I...  ,\n",
              " None)"
            ]
          },
          "metadata": {},
          "execution_count": 7
        }
      ]
    },
    {
      "cell_type": "code",
      "source": [
        "# 1. Remove duplicate rows\n",
        "df_cleaned = df.drop_duplicates()"
      ],
      "metadata": {
        "id": "tUwgQI4MApYU"
      },
      "execution_count": 8,
      "outputs": []
    },
    {
      "cell_type": "code",
      "source": [
        "# 2. Handle missing values\n",
        "# For simplicity:\n",
        "# - Drop rows where 'date_added', 'rating', or 'duration' are missing (since few entries are null)\n",
        "# - Fill 'director', 'cast', 'country' with 'Unknown'\n",
        "\n",
        "df_cleaned['director'].fillna('Unknown', inplace=True)\n",
        "df_cleaned['cast'].fillna('Unknown', inplace=True)\n",
        "df_cleaned['country'].fillna('Unknown', inplace=True)\n",
        "df_cleaned.dropna(subset=['date_added', 'rating', 'duration'], inplace=True)"
      ],
      "metadata": {
        "colab": {
          "base_uri": "https://localhost:8080/"
        },
        "id": "0pogFigRAs1g",
        "outputId": "ed0f1a43-7280-4b55-a2c6-31abdc322ac5"
      },
      "execution_count": 9,
      "outputs": [
        {
          "output_type": "stream",
          "name": "stderr",
          "text": [
            "<ipython-input-9-e9833669704f>:6: FutureWarning: A value is trying to be set on a copy of a DataFrame or Series through chained assignment using an inplace method.\n",
            "The behavior will change in pandas 3.0. This inplace method will never work because the intermediate object on which we are setting values always behaves as a copy.\n",
            "\n",
            "For example, when doing 'df[col].method(value, inplace=True)', try using 'df.method({col: value}, inplace=True)' or df[col] = df[col].method(value) instead, to perform the operation inplace on the original object.\n",
            "\n",
            "\n",
            "  df_cleaned['director'].fillna('Unknown', inplace=True)\n",
            "<ipython-input-9-e9833669704f>:7: FutureWarning: A value is trying to be set on a copy of a DataFrame or Series through chained assignment using an inplace method.\n",
            "The behavior will change in pandas 3.0. This inplace method will never work because the intermediate object on which we are setting values always behaves as a copy.\n",
            "\n",
            "For example, when doing 'df[col].method(value, inplace=True)', try using 'df.method({col: value}, inplace=True)' or df[col] = df[col].method(value) instead, to perform the operation inplace on the original object.\n",
            "\n",
            "\n",
            "  df_cleaned['cast'].fillna('Unknown', inplace=True)\n",
            "<ipython-input-9-e9833669704f>:8: FutureWarning: A value is trying to be set on a copy of a DataFrame or Series through chained assignment using an inplace method.\n",
            "The behavior will change in pandas 3.0. This inplace method will never work because the intermediate object on which we are setting values always behaves as a copy.\n",
            "\n",
            "For example, when doing 'df[col].method(value, inplace=True)', try using 'df.method({col: value}, inplace=True)' or df[col] = df[col].method(value) instead, to perform the operation inplace on the original object.\n",
            "\n",
            "\n",
            "  df_cleaned['country'].fillna('Unknown', inplace=True)\n"
          ]
        }
      ]
    },
    {
      "cell_type": "code",
      "source": [
        "# 3. Standardize text values\n",
        "df_cleaned['country'] = df_cleaned['country'].str.strip().str.title()\n",
        "df_cleaned['rating'] = df_cleaned['rating'].str.strip().str.upper()"
      ],
      "metadata": {
        "id": "tXcl19b1AvZ7"
      },
      "execution_count": 10,
      "outputs": []
    },
    {
      "cell_type": "code",
      "source": [
        "# 4. Convert 'date_added' to datetime format\n",
        "df_cleaned['date_added'] = pd.to_datetime(df_cleaned['date_added'], errors='coerce')"
      ],
      "metadata": {
        "id": "mgEBDQ1NAxiL"
      },
      "execution_count": 11,
      "outputs": []
    },
    {
      "cell_type": "code",
      "source": [
        "# 5. Rename columns\n",
        "df_cleaned.columns = df_cleaned.columns.str.strip().str.lower().str.replace(' ', '_')"
      ],
      "metadata": {
        "id": "dcD36prXAzzm"
      },
      "execution_count": 12,
      "outputs": []
    },
    {
      "cell_type": "code",
      "source": [
        "summary = {\n",
        "    \"original_rows\": df.shape[0],\n",
        "    \"cleaned_rows\": df_cleaned.shape[0],\n",
        "    \"duplicates_removed\": df.shape[0] - df.drop_duplicates().shape[0],\n",
        "    \"missing_values_handled\": df.isnull().sum().to_dict(),\n",
        "    \"columns_renamed_to\": df_cleaned.columns.tolist()\n",
        "}\n"
      ],
      "metadata": {
        "id": "ixR-cJY6A1-t"
      },
      "execution_count": 15,
      "outputs": []
    },
    {
      "cell_type": "code",
      "source": [
        "summary"
      ],
      "metadata": {
        "colab": {
          "base_uri": "https://localhost:8080/"
        },
        "id": "iAE8X5bIBMVZ",
        "outputId": "93614dd6-e959-41f1-e666-f28ec7e7d007"
      },
      "execution_count": 16,
      "outputs": [
        {
          "output_type": "execute_result",
          "data": {
            "text/plain": [
              "{'original_rows': 8807,\n",
              " 'cleaned_rows': 8790,\n",
              " 'duplicates_removed': 0,\n",
              " 'missing_values_handled': {'show_id': 0,\n",
              "  'type': 0,\n",
              "  'title': 0,\n",
              "  'director': 2634,\n",
              "  'cast': 825,\n",
              "  'country': 831,\n",
              "  'date_added': 10,\n",
              "  'release_year': 0,\n",
              "  'rating': 4,\n",
              "  'duration': 3,\n",
              "  'listed_in': 0,\n",
              "  'description': 0},\n",
              " 'columns_renamed_to': ['show_id',\n",
              "  'type',\n",
              "  'title',\n",
              "  'director',\n",
              "  'cast',\n",
              "  'country',\n",
              "  'date_added',\n",
              "  'release_year',\n",
              "  'rating',\n",
              "  'duration',\n",
              "  'listed_in',\n",
              "  'description']}"
            ]
          },
          "metadata": {},
          "execution_count": 16
        }
      ]
    },
    {
      "cell_type": "code",
      "source": [],
      "metadata": {
        "id": "p7-PeyFyBZ8y"
      },
      "execution_count": null,
      "outputs": []
    }
  ]
}